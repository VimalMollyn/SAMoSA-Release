{
 "cells": [
  {
   "cell_type": "code",
   "execution_count": null,
   "metadata": {},
   "outputs": [],
   "source": [
    "import pandas as pd\n",
    "from pathlib import Path\n",
    "\n",
    "from sklearn.metrics import f1_score, balanced_accuracy_score, precision_score, recall_score"
   ]
  },
  {
   "cell_type": "code",
   "execution_count": null,
   "metadata": {},
   "outputs": [],
   "source": [
    "path_to_results = Path(\"../../Preds/MotionSound/\")\n",
    "\n",
    "metrics = []\n",
    "for sub_sr_path in path_to_results.iterdir():\n",
    "    if sub_sr_path.is_file():\n",
    "        continue\n",
    "    sub_sr = sub_sr_path.name\n",
    "    \n",
    "    for fpath in (sub_sr_path).iterdir():\n",
    "        pred_df = pd.read_csv(fpath)\n",
    "        \n",
    "        y_true = pred_df['y_true']\n",
    "        y_pred = pred_df['y_pred']\n",
    "        \n",
    "        ba = balanced_accuracy_score(y_true, y_pred)\n",
    "        f1 = f1_score(y_true, y_pred, average=\"weighted\")\n",
    "        precision = precision_score(y_true, y_pred, average=\"weighted\")\n",
    "        recall = recall_score(y_true, y_pred, average=\"weighted\")\n",
    "        \n",
    "        metrics.append([int(sub_sr), ba, f1, precision, recall])\n",
    "\n",
    "results = pd.DataFrame(metrics, columns=[\"sub_sr\", \"ba\", \"f1\", \"precision\", \"recall\"])\n",
    "\n",
    "results.groupby(\"sub_sr\").mean().sort_index(ascending=False)"
   ]
  },
  {
   "cell_type": "code",
   "execution_count": null,
   "metadata": {},
   "outputs": [],
   "source": [
    "path_to_results = Path(\"../../Preds/Sound/\")\n",
    "\n",
    "metrics = []\n",
    "for sub_sr_path in path_to_results.iterdir():\n",
    "    if sub_sr_path.is_file():\n",
    "        continue\n",
    "    sub_sr = sub_sr_path.name\n",
    "    \n",
    "    for fpath in (sub_sr_path).iterdir():\n",
    "        pred_df = pd.read_csv(fpath)\n",
    "        \n",
    "        y_true = pred_df['y_true']\n",
    "        y_pred = pred_df['y_pred']\n",
    "        \n",
    "        ba = balanced_accuracy_score(y_true, y_pred)\n",
    "        f1 = f1_score(y_true, y_pred, average=\"weighted\")\n",
    "        precision = precision_score(y_true, y_pred, average=\"weighted\")\n",
    "        recall = recall_score(y_true, y_pred, average=\"weighted\")\n",
    "        \n",
    "        metrics.append([int(sub_sr), ba, f1, precision, recall])\n",
    "\n",
    "results = pd.DataFrame(metrics, columns=[\"sub_sr\", \"ba\", \"f1\", \"precision\", \"recall\"])\n",
    "\n",
    "results.groupby(\"sub_sr\").mean().sort_index(ascending=False)\n"
   ]
  },
  {
   "cell_type": "code",
   "execution_count": null,
   "metadata": {},
   "outputs": [],
   "source": []
  }
 ],
 "metadata": {
  "kernelspec": {
   "display_name": "Python 3 (ipykernel)",
   "language": "python",
   "name": "python3"
  },
  "language_info": {
   "codemirror_mode": {
    "name": "ipython",
    "version": 3
   },
   "file_extension": ".py",
   "mimetype": "text/x-python",
   "name": "python",
   "nbconvert_exporter": "python",
   "pygments_lexer": "ipython3",
   "version": "3.8.3"
  }
 },
 "nbformat": 4,
 "nbformat_minor": 4
}
