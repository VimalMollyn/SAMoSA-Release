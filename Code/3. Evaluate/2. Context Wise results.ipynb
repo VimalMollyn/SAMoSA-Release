{
 "cells": [
  {
   "cell_type": "markdown",
   "metadata": {},
   "source": [
    "## Context Wise MM results"
   ]
  },
  {
   "cell_type": "code",
   "execution_count": 1,
   "metadata": {},
   "outputs": [],
   "source": [
    "import pandas as pd\n",
    "import numpy as np\n",
    "from pathlib import Path\n",
    "from collections import defaultdict\n",
    "\n",
    "from sklearn.metrics import balanced_accuracy_score\n",
    "import matplotlib.pyplot as plt"
   ]
  },
  {
   "cell_type": "code",
   "execution_count": 2,
   "metadata": {},
   "outputs": [],
   "source": [
    "path_to_preds = Path(\"../../Preds/MotionSound/\")"
   ]
  },
  {
   "cell_type": "code",
   "execution_count": 3,
   "metadata": {},
   "outputs": [],
   "source": [
    "# context and activities\n",
    "contexts = {\n",
    "    'Bathroom': ['Brushing_hair', 'Hair_dryer_in_use', 'Shaver_in_use', 'Toilet_flushing', 'Toothbrushing', 'Washing_hands'],\n",
    "    'Kitchen': ['Blender_in_use', 'Chopping', 'Grating', 'Microwave', 'Pouring_pitcher', 'Twisting_jar', 'Washing_Utensils', 'Wiping_with_rag'],\n",
    "    'Misc': ['Alarm_clock', 'Clapping', 'Coughing', 'Drinking', 'Knocking', 'Laughing', 'Scratching'],\n",
    "    'Workshop': ['Drill in use', 'Hammering', 'Sanding', 'Screwing', 'Vacuum in use']\n",
    "}"
   ]
  },
  {
   "cell_type": "code",
   "execution_count": 4,
   "metadata": {},
   "outputs": [],
   "source": [
    "sub_sr_metrics = []\n",
    "for sub_sr_path in path_to_preds.iterdir():\n",
    "    if sub_sr_path.is_file():\n",
    "        continue\n",
    "    sub_sr = sub_sr_path.name\n",
    "    \n",
    "    bas = defaultdict(list)\n",
    "    for fpath in (sub_sr_path).iterdir():\n",
    "        pred_df = pd.read_csv(fpath)\n",
    "        pred_df[[\"PID\", \"Context\", \"Activity\", \"TrialNo\"]] = pred_df[\"file_name\"].str.split(\"---\").to_list()\n",
    "        \n",
    "        preds = defaultdict(list)\n",
    "        for name, group in pred_df.groupby([\"file_name\"]):\n",
    "            probs = group.drop(columns=[\"file_name\", \"y_pred\", \"y_true\", \"PID\", \"Context\", \"Activity\", \"TrialNo\"])\n",
    "\n",
    "            group_context = group[\"Context\"].unique()[0]\n",
    "            group_activity = group[\"y_true\"].unique()[0]\n",
    "            if group_context == \"Other\":\n",
    "                continue\n",
    "            if group_context == \"All\":\n",
    "                continue\n",
    "\n",
    "            filtered_probs = probs[contexts[group_context]]\n",
    "            summed_probs = filtered_probs.sum(axis=0)\n",
    "            y_pred = summed_probs.idxmax()\n",
    "\n",
    "            preds[group_context].append([group_activity, y_pred])\n",
    "            \n",
    "        for context in preds.keys():\n",
    "            preds_arr = np.array(preds[context])\n",
    "            bas[context].append(balanced_accuracy_score(preds_arr[:, 0], preds_arr[:, 1]))\n",
    "    \n",
    "    for context in bas.keys():\n",
    "        context_mean = np.mean(bas[context])\n",
    "        context_std = np.std(bas[context])\n",
    "        \n",
    "        sub_sr_metrics.append([sub_sr, context_mean, context_std, context])"
   ]
  },
  {
   "cell_type": "code",
   "execution_count": 5,
   "metadata": {},
   "outputs": [],
   "source": [
    "results = pd.DataFrame(sub_sr_metrics, columns=[\"sub_sr\", \"mean\", \"std\", \"context\"])\n",
    "results[\"sub_sr\"] = results[\"sub_sr\"].astype(int)"
   ]
  },
  {
   "cell_type": "code",
   "execution_count": 6,
   "metadata": {
    "scrolled": false
   },
   "outputs": [
    {
     "data": {
      "text/html": [
       "<div>\n",
       "<style scoped>\n",
       "    .dataframe tbody tr th:only-of-type {\n",
       "        vertical-align: middle;\n",
       "    }\n",
       "\n",
       "    .dataframe tbody tr th {\n",
       "        vertical-align: top;\n",
       "    }\n",
       "\n",
       "    .dataframe thead th {\n",
       "        text-align: right;\n",
       "    }\n",
       "</style>\n",
       "<table border=\"1\" class=\"dataframe\">\n",
       "  <thead>\n",
       "    <tr style=\"text-align: right;\">\n",
       "      <th></th>\n",
       "      <th>mean</th>\n",
       "      <th>std</th>\n",
       "    </tr>\n",
       "    <tr>\n",
       "      <th>sub_sr</th>\n",
       "      <th></th>\n",
       "      <th></th>\n",
       "    </tr>\n",
       "  </thead>\n",
       "  <tbody>\n",
       "    <tr>\n",
       "      <th>16000</th>\n",
       "      <td>0.969444</td>\n",
       "      <td>0.06911</td>\n",
       "    </tr>\n",
       "    <tr>\n",
       "      <th>1000</th>\n",
       "      <td>0.952778</td>\n",
       "      <td>0.07713</td>\n",
       "    </tr>\n",
       "  </tbody>\n",
       "</table>\n",
       "</div>"
      ],
      "text/plain": [
       "            mean      std\n",
       "sub_sr                   \n",
       "16000   0.969444  0.06911\n",
       "1000    0.952778  0.07713"
      ]
     },
     "metadata": {},
     "output_type": "display_data"
    },
    {
     "data": {
      "image/png": "[encoded data removed]",
      "text/plain": [
       "<Figure size 640x480 with 1 Axes>"
      ]
     },
     "metadata": {},
     "output_type": "display_data"
    },
    {
     "data": {
      "text/html": [
       "<div>\n",
       "<style scoped>\n",
       "    .dataframe tbody tr th:only-of-type {\n",
       "        vertical-align: middle;\n",
       "    }\n",
       "\n",
       "    .dataframe tbody tr th {\n",
       "        vertical-align: top;\n",
       "    }\n",
       "\n",
       "    .dataframe thead th {\n",
       "        text-align: right;\n",
       "    }\n",
       "</style>\n",
       "<table border=\"1\" class=\"dataframe\">\n",
       "  <thead>\n",
       "    <tr style=\"text-align: right;\">\n",
       "      <th></th>\n",
       "      <th>mean</th>\n",
       "      <th>std</th>\n",
       "    </tr>\n",
       "    <tr>\n",
       "      <th>sub_sr</th>\n",
       "      <th></th>\n",
       "      <th></th>\n",
       "    </tr>\n",
       "  </thead>\n",
       "  <tbody>\n",
       "    <tr>\n",
       "      <th>16000</th>\n",
       "      <td>0.937946</td>\n",
       "      <td>0.051971</td>\n",
       "    </tr>\n",
       "    <tr>\n",
       "      <th>1000</th>\n",
       "      <td>0.915327</td>\n",
       "      <td>0.066513</td>\n",
       "    </tr>\n",
       "  </tbody>\n",
       "</table>\n",
       "</div>"
      ],
      "text/plain": [
       "            mean       std\n",
       "sub_sr                    \n",
       "16000   0.937946  0.051971\n",
       "1000    0.915327  0.066513"
      ]
     },
     "metadata": {},
     "output_type": "display_data"
    },
    {
     "data": {
      "image/png": "[encoded data removed]",
      "text/plain": [
       "<Figure size 640x480 with 1 Axes>"
      ]
     },
     "metadata": {},
     "output_type": "display_data"
    },
    {
     "data": {
      "text/html": [
       "<div>\n",
       "<style scoped>\n",
       "    .dataframe tbody tr th:only-of-type {\n",
       "        vertical-align: middle;\n",
       "    }\n",
       "\n",
       "    .dataframe tbody tr th {\n",
       "        vertical-align: top;\n",
       "    }\n",
       "\n",
       "    .dataframe thead th {\n",
       "        text-align: right;\n",
       "    }\n",
       "</style>\n",
       "<table border=\"1\" class=\"dataframe\">\n",
       "  <thead>\n",
       "    <tr style=\"text-align: right;\">\n",
       "      <th></th>\n",
       "      <th>mean</th>\n",
       "      <th>std</th>\n",
       "    </tr>\n",
       "    <tr>\n",
       "      <th>sub_sr</th>\n",
       "      <th></th>\n",
       "      <th></th>\n",
       "    </tr>\n",
       "  </thead>\n",
       "  <tbody>\n",
       "    <tr>\n",
       "      <th>16000</th>\n",
       "      <td>0.947368</td>\n",
       "      <td>0.053284</td>\n",
       "    </tr>\n",
       "    <tr>\n",
       "      <th>1000</th>\n",
       "      <td>0.889724</td>\n",
       "      <td>0.102543</td>\n",
       "    </tr>\n",
       "  </tbody>\n",
       "</table>\n",
       "</div>"
      ],
      "text/plain": [
       "            mean       std\n",
       "sub_sr                    \n",
       "16000   0.947368  0.053284\n",
       "1000    0.889724  0.102543"
      ]
     },
     "metadata": {},
     "output_type": "display_data"
    },
    {
     "data": {
      "image/png": "[encoded data removed]",
      "text/plain": [
       "<Figure size 640x480 with 1 Axes>"
      ]
     },
     "metadata": {},
     "output_type": "display_data"
    },
    {
     "data": {
      "text/html": [
       "<div>\n",
       "<style scoped>\n",
       "    .dataframe tbody tr th:only-of-type {\n",
       "        vertical-align: middle;\n",
       "    }\n",
       "\n",
       "    .dataframe tbody tr th {\n",
       "        vertical-align: top;\n",
       "    }\n",
       "\n",
       "    .dataframe thead th {\n",
       "        text-align: right;\n",
       "    }\n",
       "</style>\n",
       "<table border=\"1\" class=\"dataframe\">\n",
       "  <thead>\n",
       "    <tr style=\"text-align: right;\">\n",
       "      <th></th>\n",
       "      <th>mean</th>\n",
       "      <th>std</th>\n",
       "    </tr>\n",
       "    <tr>\n",
       "      <th>sub_sr</th>\n",
       "      <th></th>\n",
       "      <th></th>\n",
       "    </tr>\n",
       "  </thead>\n",
       "  <tbody>\n",
       "    <tr>\n",
       "      <th>16000</th>\n",
       "      <td>0.985965</td>\n",
       "      <td>0.034735</td>\n",
       "    </tr>\n",
       "    <tr>\n",
       "      <th>1000</th>\n",
       "      <td>0.964912</td>\n",
       "      <td>0.058713</td>\n",
       "    </tr>\n",
       "  </tbody>\n",
       "</table>\n",
       "</div>"
      ],
      "text/plain": [
       "            mean       std\n",
       "sub_sr                    \n",
       "16000   0.985965  0.034735\n",
       "1000    0.964912  0.058713"
      ]
     },
     "metadata": {},
     "output_type": "display_data"
    },
    {
     "data": {
      "image/png": "[encoded data removed]",
      "text/plain": [
       "<Figure size 640x480 with 1 Axes>"
      ]
     },
     "metadata": {},
     "output_type": "display_data"
    }
   ],
   "source": [
    "for name, group in results.groupby([\"context\"]):\n",
    "    data = group.sort_values(by=[\"sub_sr\"], ascending=False)\n",
    "    display(data.drop(columns=[\"context\"]).set_index(\"sub_sr\"))\n",
    "    \n",
    "    plt.plot(data[\"sub_sr\"], data[\"mean\"])\n",
    "    plt.ylim([0.4, 1.0])\n",
    "    plt.xscale(\"log\")\n",
    "    plt.title(name)\n",
    "    plt.show()"
   ]
  },
  {
   "cell_type": "code",
   "execution_count": 7,
   "metadata": {},
   "outputs": [
    {
     "data": {
      "text/html": [
       "<div>\n",
       "<style scoped>\n",
       "    .dataframe tbody tr th:only-of-type {\n",
       "        vertical-align: middle;\n",
       "    }\n",
       "\n",
       "    .dataframe tbody tr th {\n",
       "        vertical-align: top;\n",
       "    }\n",
       "\n",
       "    .dataframe thead th {\n",
       "        text-align: right;\n",
       "    }\n",
       "</style>\n",
       "<table border=\"1\" class=\"dataframe\">\n",
       "  <thead>\n",
       "    <tr style=\"text-align: right;\">\n",
       "      <th></th>\n",
       "      <th>mean</th>\n",
       "      <th>std</th>\n",
       "    </tr>\n",
       "    <tr>\n",
       "      <th>sub_sr</th>\n",
       "      <th></th>\n",
       "      <th></th>\n",
       "    </tr>\n",
       "  </thead>\n",
       "  <tbody>\n",
       "    <tr>\n",
       "      <th>16000</th>\n",
       "      <td>0.960181</td>\n",
       "      <td>0.052275</td>\n",
       "    </tr>\n",
       "    <tr>\n",
       "      <th>1000</th>\n",
       "      <td>0.930685</td>\n",
       "      <td>0.076225</td>\n",
       "    </tr>\n",
       "  </tbody>\n",
       "</table>\n",
       "</div>"
      ],
      "text/plain": [
       "            mean       std\n",
       "sub_sr                    \n",
       "16000   0.960181  0.052275\n",
       "1000    0.930685  0.076225"
      ]
     },
     "execution_count": 7,
     "metadata": {},
     "output_type": "execute_result"
    }
   ],
   "source": [
    "# averaged accross contexts\n",
    "results.groupby(\"sub_sr\").mean().sort_index(ascending=False)"
   ]
  },
  {
   "cell_type": "markdown",
   "metadata": {},
   "source": [
    "# Context Wise Sound Results"
   ]
  },
  {
   "cell_type": "code",
   "execution_count": 8,
   "metadata": {},
   "outputs": [],
   "source": [
    "path_to_preds = Path(\"../../Preds/Sound/\")\n",
    "sub_sr_metrics = []\n",
    "for sub_sr_path in path_to_preds.iterdir():\n",
    "    if sub_sr_path.is_file():\n",
    "        continue\n",
    "    sub_sr = sub_sr_path.name\n",
    "    \n",
    "    bas = defaultdict(list)\n",
    "    for fpath in (sub_sr_path).iterdir():\n",
    "        pred_df = pd.read_csv(fpath)\n",
    "        pred_df[[\"PID\", \"Context\", \"Activity\", \"TrialNo\"]] = pred_df[\"file_name\"].str.split(\"---\").to_list()\n",
    "        \n",
    "        preds = defaultdict(list)\n",
    "        for name, group in pred_df.groupby([\"file_name\"]):\n",
    "            probs = group.drop(columns=[\"file_name\", \"y_pred\", \"y_true\", \"PID\", \"Context\", \"Activity\", \"TrialNo\"])\n",
    "\n",
    "            group_context = group[\"Context\"].unique()[0]\n",
    "            group_activity = group[\"y_true\"].unique()[0]\n",
    "            if group_context == \"Other\":\n",
    "                continue\n",
    "            if group_context == \"All\":\n",
    "                continue\n",
    "\n",
    "            filtered_probs = probs[contexts[group_context]]\n",
    "            summed_probs = filtered_probs.sum(axis=0)\n",
    "            y_pred = summed_probs.idxmax()\n",
    "\n",
    "            preds[group_context].append([group_activity, y_pred])\n",
    "            \n",
    "        for context in preds.keys():\n",
    "            preds_arr = np.array(preds[context])\n",
    "            bas[context].append(balanced_accuracy_score(preds_arr[:, 0], preds_arr[:, 1]))\n",
    "    \n",
    "    for context in bas.keys():\n",
    "        context_mean = np.mean(bas[context])\n",
    "        context_std = np.std(bas[context])\n",
    "        \n",
    "        sub_sr_metrics.append([sub_sr, context_mean, context_std, context])\n",
    "        \n",
    "results = pd.DataFrame(sub_sr_metrics, columns=[\"sub_sr\", \"mean\", \"std\", \"context\"])\n",
    "results[\"sub_sr\"] = results[\"sub_sr\"].astype(int)"
   ]
  },
  {
   "cell_type": "code",
   "execution_count": 9,
   "metadata": {
    "scrolled": false
   },
   "outputs": [
    {
     "data": {
      "text/html": [
       "<div>\n",
       "<style scoped>\n",
       "    .dataframe tbody tr th:only-of-type {\n",
       "        vertical-align: middle;\n",
       "    }\n",
       "\n",
       "    .dataframe tbody tr th {\n",
       "        vertical-align: top;\n",
       "    }\n",
       "\n",
       "    .dataframe thead th {\n",
       "        text-align: right;\n",
       "    }\n",
       "</style>\n",
       "<table border=\"1\" class=\"dataframe\">\n",
       "  <thead>\n",
       "    <tr style=\"text-align: right;\">\n",
       "      <th></th>\n",
       "      <th>mean</th>\n",
       "      <th>std</th>\n",
       "    </tr>\n",
       "    <tr>\n",
       "      <th>sub_sr</th>\n",
       "      <th></th>\n",
       "      <th></th>\n",
       "    </tr>\n",
       "  </thead>\n",
       "  <tbody>\n",
       "    <tr>\n",
       "      <th>16000</th>\n",
       "      <td>0.916667</td>\n",
       "      <td>0.101683</td>\n",
       "    </tr>\n",
       "    <tr>\n",
       "      <th>1000</th>\n",
       "      <td>0.816667</td>\n",
       "      <td>0.123103</td>\n",
       "    </tr>\n",
       "  </tbody>\n",
       "</table>\n",
       "</div>"
      ],
      "text/plain": [
       "            mean       std\n",
       "sub_sr                    \n",
       "16000   0.916667  0.101683\n",
       "1000    0.816667  0.123103"
      ]
     },
     "metadata": {},
     "output_type": "display_data"
    },
    {
     "data": {
      "image/png": "[encoded data removed]",
      "text/plain": [
       "<Figure size 640x480 with 1 Axes>"
      ]
     },
     "metadata": {},
     "output_type": "display_data"
    },
    {
     "data": {
      "text/html": [
       "<div>\n",
       "<style scoped>\n",
       "    .dataframe tbody tr th:only-of-type {\n",
       "        vertical-align: middle;\n",
       "    }\n",
       "\n",
       "    .dataframe tbody tr th {\n",
       "        vertical-align: top;\n",
       "    }\n",
       "\n",
       "    .dataframe thead th {\n",
       "        text-align: right;\n",
       "    }\n",
       "</style>\n",
       "<table border=\"1\" class=\"dataframe\">\n",
       "  <thead>\n",
       "    <tr style=\"text-align: right;\">\n",
       "      <th></th>\n",
       "      <th>mean</th>\n",
       "      <th>std</th>\n",
       "    </tr>\n",
       "    <tr>\n",
       "      <th>sub_sr</th>\n",
       "      <th></th>\n",
       "      <th></th>\n",
       "    </tr>\n",
       "  </thead>\n",
       "  <tbody>\n",
       "    <tr>\n",
       "      <th>16000</th>\n",
       "      <td>0.796875</td>\n",
       "      <td>0.099013</td>\n",
       "    </tr>\n",
       "    <tr>\n",
       "      <th>1000</th>\n",
       "      <td>0.711458</td>\n",
       "      <td>0.102545</td>\n",
       "    </tr>\n",
       "  </tbody>\n",
       "</table>\n",
       "</div>"
      ],
      "text/plain": [
       "            mean       std\n",
       "sub_sr                    \n",
       "16000   0.796875  0.099013\n",
       "1000    0.711458  0.102545"
      ]
     },
     "metadata": {},
     "output_type": "display_data"
    },
    {
     "data": {
      "image/png": "[encoded data removed]",
      "text/plain": [
       "<Figure size 640x480 with 1 Axes>"
      ]
     },
     "metadata": {},
     "output_type": "display_data"
    },
    {
     "data": {
      "text/html": [
       "<div>\n",
       "<style scoped>\n",
       "    .dataframe tbody tr th:only-of-type {\n",
       "        vertical-align: middle;\n",
       "    }\n",
       "\n",
       "    .dataframe tbody tr th {\n",
       "        vertical-align: top;\n",
       "    }\n",
       "\n",
       "    .dataframe thead th {\n",
       "        text-align: right;\n",
       "    }\n",
       "</style>\n",
       "<table border=\"1\" class=\"dataframe\">\n",
       "  <thead>\n",
       "    <tr style=\"text-align: right;\">\n",
       "      <th></th>\n",
       "      <th>mean</th>\n",
       "      <th>std</th>\n",
       "    </tr>\n",
       "    <tr>\n",
       "      <th>sub_sr</th>\n",
       "      <th></th>\n",
       "      <th></th>\n",
       "    </tr>\n",
       "  </thead>\n",
       "  <tbody>\n",
       "    <tr>\n",
       "      <th>16000</th>\n",
       "      <td>0.869674</td>\n",
       "      <td>0.082972</td>\n",
       "    </tr>\n",
       "    <tr>\n",
       "      <th>1000</th>\n",
       "      <td>0.751880</td>\n",
       "      <td>0.121237</td>\n",
       "    </tr>\n",
       "  </tbody>\n",
       "</table>\n",
       "</div>"
      ],
      "text/plain": [
       "            mean       std\n",
       "sub_sr                    \n",
       "16000   0.869674  0.082972\n",
       "1000    0.751880  0.121237"
      ]
     },
     "metadata": {},
     "output_type": "display_data"
    },
    {
     "data": {
      "image/png": "[encoded data removed]",
      "text/plain": [
       "<Figure size 640x480 with 1 Axes>"
      ]
     },
     "metadata": {},
     "output_type": "display_data"
    },
    {
     "data": {
      "text/html": [
       "<div>\n",
       "<style scoped>\n",
       "    .dataframe tbody tr th:only-of-type {\n",
       "        vertical-align: middle;\n",
       "    }\n",
       "\n",
       "    .dataframe tbody tr th {\n",
       "        vertical-align: top;\n",
       "    }\n",
       "\n",
       "    .dataframe thead th {\n",
       "        text-align: right;\n",
       "    }\n",
       "</style>\n",
       "<table border=\"1\" class=\"dataframe\">\n",
       "  <thead>\n",
       "    <tr style=\"text-align: right;\">\n",
       "      <th></th>\n",
       "      <th>mean</th>\n",
       "      <th>std</th>\n",
       "    </tr>\n",
       "    <tr>\n",
       "      <th>sub_sr</th>\n",
       "      <th></th>\n",
       "      <th></th>\n",
       "    </tr>\n",
       "  </thead>\n",
       "  <tbody>\n",
       "    <tr>\n",
       "      <th>16000</th>\n",
       "      <td>0.936842</td>\n",
       "      <td>0.062963</td>\n",
       "    </tr>\n",
       "    <tr>\n",
       "      <th>1000</th>\n",
       "      <td>0.905263</td>\n",
       "      <td>0.090005</td>\n",
       "    </tr>\n",
       "  </tbody>\n",
       "</table>\n",
       "</div>"
      ],
      "text/plain": [
       "            mean       std\n",
       "sub_sr                    \n",
       "16000   0.936842  0.062963\n",
       "1000    0.905263  0.090005"
      ]
     },
     "metadata": {},
     "output_type": "display_data"
    },
    {
     "data": {
      "image/png": "[encoded data removed]",
      "text/plain": [
       "<Figure size 640x480 with 1 Axes>"
      ]
     },
     "metadata": {},
     "output_type": "display_data"
    }
   ],
   "source": [
    "for name, group in results.groupby([\"context\"]):\n",
    "    data = group.sort_values(by=[\"sub_sr\"], ascending=False)\n",
    "    display(data.drop(columns=[\"context\"]).set_index(\"sub_sr\"))\n",
    "    \n",
    "    plt.plot(data[\"sub_sr\"], data[\"mean\"])\n",
    "    plt.ylim([0.4, 1.0])\n",
    "    plt.xscale(\"log\")\n",
    "    plt.title(name)\n",
    "    plt.show()"
   ]
  },
  {
   "cell_type": "code",
   "execution_count": 10,
   "metadata": {},
   "outputs": [
    {
     "data": {
      "text/html": [
       "<div>\n",
       "<style scoped>\n",
       "    .dataframe tbody tr th:only-of-type {\n",
       "        vertical-align: middle;\n",
       "    }\n",
       "\n",
       "    .dataframe tbody tr th {\n",
       "        vertical-align: top;\n",
       "    }\n",
       "\n",
       "    .dataframe thead th {\n",
       "        text-align: right;\n",
       "    }\n",
       "</style>\n",
       "<table border=\"1\" class=\"dataframe\">\n",
       "  <thead>\n",
       "    <tr style=\"text-align: right;\">\n",
       "      <th></th>\n",
       "      <th>mean</th>\n",
       "      <th>std</th>\n",
       "    </tr>\n",
       "    <tr>\n",
       "      <th>sub_sr</th>\n",
       "      <th></th>\n",
       "      <th></th>\n",
       "    </tr>\n",
       "  </thead>\n",
       "  <tbody>\n",
       "    <tr>\n",
       "      <th>16000</th>\n",
       "      <td>0.880014</td>\n",
       "      <td>0.086658</td>\n",
       "    </tr>\n",
       "    <tr>\n",
       "      <th>1000</th>\n",
       "      <td>0.796317</td>\n",
       "      <td>0.109222</td>\n",
       "    </tr>\n",
       "  </tbody>\n",
       "</table>\n",
       "</div>"
      ],
      "text/plain": [
       "            mean       std\n",
       "sub_sr                    \n",
       "16000   0.880014  0.086658\n",
       "1000    0.796317  0.109222"
      ]
     },
     "execution_count": 10,
     "metadata": {},
     "output_type": "execute_result"
    }
   ],
   "source": [
    "results.groupby(\"sub_sr\").mean().sort_index(ascending=False)"
   ]
  },
  {
   "cell_type": "code",
   "execution_count": 11,
   "metadata": {},
   "outputs": [],
   "source": [
    "path_to_preds = Path(\"../../Preds/Motion/\")\n",
    "\n",
    "bas = defaultdict(list)\n",
    "for fpath in (path_to_preds).iterdir():\n",
    "    pred_df = pd.read_csv(fpath)\n",
    "    pred_df[[\"PID\", \"Context\", \"Activity\", \"TrialNo\"]] = pred_df[\"file_name\"].str.split(\"---\").to_list()\n",
    "\n",
    "    preds = defaultdict(list)\n",
    "    for name, group in pred_df.groupby([\"file_name\"]):\n",
    "        probs = group.drop(columns=[\"file_name\", \"y_pred\", \"y_true\", \"PID\", \"Context\", \"Activity\", \"TrialNo\"])\n",
    "\n",
    "        group_context = group[\"Context\"].unique()[0]\n",
    "        group_activity = group[\"y_true\"].unique()[0]\n",
    "        if group_context == \"Other\":\n",
    "            continue\n",
    "        if group_context == \"All\":\n",
    "            continue\n",
    "\n",
    "        filtered_probs = probs[contexts[group_context]]\n",
    "        summed_probs = filtered_probs.sum(axis=0)\n",
    "        y_pred = summed_probs.idxmax()\n",
    "\n",
    "        preds[group_context].append([group_activity, y_pred])\n",
    "\n",
    "    for context in preds.keys():\n",
    "        preds_arr = np.array(preds[context])\n",
    "        bas[context].append(balanced_accuracy_score(preds_arr[:, 0], preds_arr[:, 1]))\n",
    "\n",
    "results = []\n",
    "for context in bas.keys():\n",
    "    context_mean = np.mean(bas[context])\n",
    "    context_std = np.std(bas[context])\n",
    "\n",
    "    results.append([context, context_mean, context_std])\n",
    "    # sub_sr_metrics.append([sub_sr, context_mean, context_std, context])\n",
    "results = pd.DataFrame(results, columns=[\"context\", \"mean\", \"std\"])"
   ]
  },
  {
   "cell_type": "code",
   "execution_count": 12,
   "metadata": {},
   "outputs": [
    {
     "data": {
      "text/html": [
       "<div>\n",
       "<style scoped>\n",
       "    .dataframe tbody tr th:only-of-type {\n",
       "        vertical-align: middle;\n",
       "    }\n",
       "\n",
       "    .dataframe tbody tr th {\n",
       "        vertical-align: top;\n",
       "    }\n",
       "\n",
       "    .dataframe thead th {\n",
       "        text-align: right;\n",
       "    }\n",
       "</style>\n",
       "<table border=\"1\" class=\"dataframe\">\n",
       "  <thead>\n",
       "    <tr style=\"text-align: right;\">\n",
       "      <th></th>\n",
       "      <th>context</th>\n",
       "      <th>mean</th>\n",
       "      <th>std</th>\n",
       "    </tr>\n",
       "  </thead>\n",
       "  <tbody>\n",
       "    <tr>\n",
       "      <th>0</th>\n",
       "      <td>Bathroom</td>\n",
       "      <td>0.888889</td>\n",
       "      <td>0.130289</td>\n",
       "    </tr>\n",
       "    <tr>\n",
       "      <th>1</th>\n",
       "      <td>Kitchen</td>\n",
       "      <td>0.789583</td>\n",
       "      <td>0.133382</td>\n",
       "    </tr>\n",
       "    <tr>\n",
       "      <th>2</th>\n",
       "      <td>Misc</td>\n",
       "      <td>0.659148</td>\n",
       "      <td>0.146782</td>\n",
       "    </tr>\n",
       "    <tr>\n",
       "      <th>3</th>\n",
       "      <td>Workshop</td>\n",
       "      <td>0.849123</td>\n",
       "      <td>0.151163</td>\n",
       "    </tr>\n",
       "  </tbody>\n",
       "</table>\n",
       "</div>"
      ],
      "text/plain": [
       "    context      mean       std\n",
       "0  Bathroom  0.888889  0.130289\n",
       "1   Kitchen  0.789583  0.133382\n",
       "2      Misc  0.659148  0.146782\n",
       "3  Workshop  0.849123  0.151163"
      ]
     },
     "execution_count": 12,
     "metadata": {},
     "output_type": "execute_result"
    }
   ],
   "source": [
    "results"
   ]
  },
  {
   "cell_type": "code",
   "execution_count": null,
   "metadata": {},
   "outputs": [],
   "source": []
  }
 ],
 "metadata": {
  "kernelspec": {
   "display_name": "Python 3 (ipykernel)",
   "language": "python",
   "name": "python3"
  },
  "language_info": {
   "codemirror_mode": {
    "name": "ipython",
    "version": 3
   },
   "file_extension": ".py",
   "mimetype": "text/x-python",
   "name": "python",
   "nbconvert_exporter": "python",
   "pygments_lexer": "ipython3",
   "version": "3.8.3"
  }
 },
 "nbformat": 4,
 "nbformat_minor": 4
}
